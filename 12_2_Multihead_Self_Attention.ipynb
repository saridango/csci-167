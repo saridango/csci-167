{
  "nbformat": 4,
  "nbformat_minor": 0,
  "metadata": {
    "colab": {
      "provenance": [],
      "include_colab_link": true
    },
    "kernelspec": {
      "name": "python3",
      "display_name": "Python 3"
    },
    "language_info": {
      "name": "python"
    }
  },
  "cells": [
    {
      "cell_type": "markdown",
      "metadata": {
        "id": "view-in-github",
        "colab_type": "text"
      },
      "source": [
        "<a href=\"https://colab.research.google.com/github/saridango/csci-167/blob/main/12_2_Multihead_Self_Attention.ipynb\" target=\"_parent\"><img src=\"https://colab.research.google.com/assets/colab-badge.svg\" alt=\"Open In Colab\"/></a>"
      ]
    },
    {
      "cell_type": "markdown",
      "source": [
        "# **Notebook 12.2: Multihead Self-Attention**\n",
        "\n",
        "This notebook builds a multihead self-attention mechanism as in figure 12.6\n",
        "\n",
        "Work through the cells below, running each cell in turn. In various places you will see the words \"TO DO\". Follow the instructions at these places and make predictions about what is going to happen or write code to complete the functions.\n",
        "\n",
        "Contact me at udlbookmail@gmail.com if you find any mistakes or have any suggestions.\n",
        "\n"
      ],
      "metadata": {
        "id": "t9vk9Elugvmi"
      }
    },
    {
      "cell_type": "code",
      "source": [
        "import numpy as np\n",
        "import matplotlib.pyplot as plt"
      ],
      "metadata": {
        "id": "OLComQyvCIJ7"
      },
      "execution_count": 25,
      "outputs": []
    },
    {
      "cell_type": "markdown",
      "source": [
        "The multihead self-attention mechanism maps $N$ inputs $\\mathbf{x}_{n}\\in\\mathbb{R}^{D}$ and returns $N$ outputs $\\mathbf{x}'_{n}\\in \\mathbb{R}^{D}$.  \n",
        "\n"
      ],
      "metadata": {
        "id": "9OJkkoNqCVK2"
      }
    },
    {
      "cell_type": "code",
      "source": [
        "# Set seed so we get the same random numbers\n",
        "np.random.seed(3)\n",
        "# Number of inputs\n",
        "N = 6\n",
        "# Number of dimensions of each input\n",
        "D = 8\n",
        "# Create an empty list\n",
        "X = np.random.normal(size=(D,N))\n",
        "# Print X\n",
        "print(X)"
      ],
      "metadata": {
        "id": "oAygJwLiCSri",
        "colab": {
          "base_uri": "https://localhost:8080/"
        },
        "outputId": "82beb66f-c760-4862-ee44-a940396c7c7a"
      },
      "execution_count": 26,
      "outputs": [
        {
          "output_type": "stream",
          "name": "stdout",
          "text": [
            "[[ 1.789  0.437  0.096 -1.863 -0.277 -0.355]\n",
            " [-0.083 -0.627 -0.044 -0.477 -1.314  0.885]\n",
            " [ 0.881  1.71   0.05  -0.405 -0.545 -1.546]\n",
            " [ 0.982 -1.101 -1.185 -0.206  1.486  0.237]\n",
            " [-1.024 -0.713  0.625 -0.161 -0.769 -0.23 ]\n",
            " [ 0.745  1.976 -1.244 -0.626 -0.804 -2.419]\n",
            " [-0.924 -1.024  1.124 -0.132 -1.623  0.647]\n",
            " [-0.356 -1.743 -0.597 -0.589 -0.874  0.03 ]]\n"
          ]
        }
      ]
    },
    {
      "cell_type": "markdown",
      "source": [
        "We'll use two heads.  We'll need the weights and biases for the keys, queries, and values (equations 12.2 and 12.4).  We'll use two heads, and (as in the figure), we'll make the queries keys and values of size D/H"
      ],
      "metadata": {
        "id": "W2iHFbtKMaDp"
      }
    },
    {
      "cell_type": "code",
      "source": [
        "# Number of heads\n",
        "H = 2\n",
        "# QDV dimension\n",
        "H_D = int(D/H)\n",
        "\n",
        "# Set seed so we get the same random numbers\n",
        "np.random.seed(0)\n",
        "\n",
        "# Choose random values for the parameters for the first head\n",
        "omega_q1 = np.random.normal(size=(H_D,D))\n",
        "omega_k1 = np.random.normal(size=(H_D,D))\n",
        "omega_v1 = np.random.normal(size=(H_D,D))\n",
        "beta_q1 = np.random.normal(size=(H_D,1))\n",
        "beta_k1 = np.random.normal(size=(H_D,1))\n",
        "beta_v1 = np.random.normal(size=(H_D,1))\n",
        "\n",
        "# Choose random values for the parameters for the second head\n",
        "omega_q2 = np.random.normal(size=(H_D,D))\n",
        "omega_k2 = np.random.normal(size=(H_D,D))\n",
        "omega_v2 = np.random.normal(size=(H_D,D))\n",
        "beta_q2 = np.random.normal(size=(H_D,1))\n",
        "beta_k2 = np.random.normal(size=(H_D,1))\n",
        "beta_v2 = np.random.normal(size=(H_D,1))\n",
        "\n",
        "# Choose random values for the parameters\n",
        "omega_c = np.random.normal(size=(D,D))"
      ],
      "metadata": {
        "id": "79TSK7oLMobe"
      },
      "execution_count": 32,
      "outputs": []
    },
    {
      "cell_type": "markdown",
      "source": [
        "Now let's compute the multiscale self-attention"
      ],
      "metadata": {
        "id": "VxaKQtP3Ng6R"
      }
    },
    {
      "cell_type": "code",
      "source": [
        "# Define softmax operation that works independently on each column\n",
        "def softmax_cols(data_in):\n",
        "  # Exponentiate all of the values\n",
        "  exp_values = np.exp(data_in) ;\n",
        "  # Sum over columns\n",
        "  denom = np.sum(exp_values, axis = 0);\n",
        "  # Compute softmax (numpy broadcasts denominator to all rows automatically)\n",
        "  softmax = exp_values / denom\n",
        "  # return the answer\n",
        "  return softmax"
      ],
      "metadata": {
        "id": "obaQBdUAMXXv"
      },
      "execution_count": 33,
      "outputs": []
    },
    {
      "cell_type": "code",
      "source": [
        "def multihead_scaled_self_attention(X, omega_v1, omega_q1, omega_k1, beta_v1, beta_q1, beta_k1, omega_v2, omega_q2, omega_k2, beta_v2, beta_q2, beta_k2, omega_c):\n",
        "    # Head 1\n",
        "    Q1 = omega_q1 @ X + beta_q1\n",
        "    K1 = omega_k1 @ X + beta_k1\n",
        "    V1 = omega_v1 @ X + beta_v1\n",
        "\n",
        "    # Scaled Dot-Product Attention for Head 1\n",
        "    attention_weights1 = softmax_cols(K1.T @ Q1 / np.sqrt(H_D))\n",
        "    head1_output = V1 @ attention_weights1\n",
        "\n",
        "    # Head 2 (Similar calculations as Head 1)\n",
        "    Q2 = omega_q2 @ X + beta_q2\n",
        "    K2 = omega_k2 @ X + beta_k2\n",
        "    V2 = omega_v2 @ X + beta_v2\n",
        "\n",
        "    attention_weights2 = softmax_cols(K2.T @ Q2 / np.sqrt(H_D))\n",
        "    head2_output = V2 @ attention_weights2\n",
        "\n",
        "    # Concatenate Head Outputs\n",
        "    multihead_output = np.concatenate([head1_output, head2_output], axis=0)\n",
        "\n",
        "    # Linear Transformation\n",
        "    X_prime = omega_c @ multihead_output\n",
        "\n",
        "    return X_prime"
      ],
      "metadata": {
        "id": "gb2WvQ3SiH8r"
      },
      "execution_count": 36,
      "outputs": []
    },
    {
      "cell_type": "code",
      "source": [
        "# Run the self attention mechanism\n",
        "X_prime = multihead_scaled_self_attention(X,omega_v1, omega_q1, omega_k1, beta_v1, beta_q1, beta_k1, omega_v2, omega_q2, omega_k2, beta_v2, beta_q2, beta_k2, omega_c)\n",
        "\n",
        "# Print out the results\n",
        "np.set_printoptions(precision=3)\n",
        "print(\"Your answer:\")\n",
        "print(X_prime)\n",
        "\n",
        "print(\"True values:\")\n",
        "print(\"[[-21.207  -5.373 -20.933  -9.179 -11.319 -17.812]\")\n",
        "print(\" [ -1.995   7.906 -10.516   3.452   9.863  -7.24 ]\")\n",
        "print(\" [  5.479   1.115   9.244   0.453   5.656   7.089]\")\n",
        "print(\" [ -7.413  -7.416   0.363  -5.573  -6.736  -0.848]\")\n",
        "print(\" [-11.261  -9.937  -4.848  -8.915 -13.378  -5.761]\")\n",
        "print(\" [  3.548  10.036  -2.244   1.604  12.113  -2.557]\")\n",
        "print(\" [  4.888  -5.814   2.407   3.228  -4.232   3.71 ]\")\n",
        "print(\" [  1.248  18.894  -6.409   3.224  19.717  -5.629]]\")\n",
        "\n",
        "# If your answers don't match, then make sure that you are doing the scaling, and make sure the scaling value is correct"
      ],
      "metadata": {
        "id": "MUOJbgJskUpl",
        "colab": {
          "base_uri": "https://localhost:8080/"
        },
        "outputId": "e4fd8670-d399-4154-e18c-fcf1946de1fa"
      },
      "execution_count": 37,
      "outputs": [
        {
          "output_type": "stream",
          "name": "stdout",
          "text": [
            "Your answer:\n",
            "[[-21.207  -5.373 -20.933  -9.179 -11.319 -17.812]\n",
            " [ -1.995   7.906 -10.516   3.452   9.863  -7.24 ]\n",
            " [  5.479   1.115   9.244   0.453   5.656   7.089]\n",
            " [ -7.413  -7.416   0.363  -5.573  -6.736  -0.848]\n",
            " [-11.261  -9.937  -4.848  -8.915 -13.378  -5.761]\n",
            " [  3.548  10.036  -2.244   1.604  12.113  -2.557]\n",
            " [  4.888  -5.814   2.407   3.228  -4.232   3.71 ]\n",
            " [  1.248  18.894  -6.409   3.224  19.717  -5.629]]\n",
            "True values:\n",
            "[[-21.207  -5.373 -20.933  -9.179 -11.319 -17.812]\n",
            " [ -1.995   7.906 -10.516   3.452   9.863  -7.24 ]\n",
            " [  5.479   1.115   9.244   0.453   5.656   7.089]\n",
            " [ -7.413  -7.416   0.363  -5.573  -6.736  -0.848]\n",
            " [-11.261  -9.937  -4.848  -8.915 -13.378  -5.761]\n",
            " [  3.548  10.036  -2.244   1.604  12.113  -2.557]\n",
            " [  4.888  -5.814   2.407   3.228  -4.232   3.71 ]\n",
            " [  1.248  18.894  -6.409   3.224  19.717  -5.629]]\n"
          ]
        }
      ]
    }
  ]
}