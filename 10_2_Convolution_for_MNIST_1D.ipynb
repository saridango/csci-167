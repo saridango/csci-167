{
  "nbformat": 4,
  "nbformat_minor": 0,
  "metadata": {
    "colab": {
      "provenance": []
    },
    "kernelspec": {
      "name": "python3",
      "display_name": "Python 3"
    },
    "language_info": {
      "name": "python"
    }
  },
  "cells": [
    {
      "cell_type": "markdown",
      "source": [
        "# **Notebook 10.2: Convolution for MNIST-1D**\n",
        "\n",
        "This notebook investigates a 1D convolutional network for MNIST-1D as in figure 10.7 and 10.8a.\n",
        "\n",
        "Work through the cells below, running each cell in turn. In various places you will see the words \"TO DO\". Follow the instructions at these places and make predictions about what is going to happen or write code to complete the functions.\n",
        "\n",
        "Contact me at udlbookmail@gmail.com if you find any mistakes or have any suggestions.\n",
        "\n"
      ],
      "metadata": {
        "id": "t9vk9Elugvmi"
      }
    },
    {
      "cell_type": "code",
      "source": [
        "# Run this if you're in a Colab to install MNIST 1D repository\n",
        "!pip install git+https://github.com/greydanus/mnist1d"
      ],
      "metadata": {
        "id": "D5yLObtZCi9J",
        "colab": {
          "base_uri": "https://localhost:8080/"
        },
        "outputId": "4b2d4c7b-537d-4b1c-ba96-10bda4dec40f"
      },
      "execution_count": 1,
      "outputs": [
        {
          "output_type": "stream",
          "name": "stdout",
          "text": [
            "Collecting git+https://github.com/greydanus/mnist1d\n",
            "  Cloning https://github.com/greydanus/mnist1d to /tmp/pip-req-build-v2nom8_h\n",
            "  Running command git clone --filter=blob:none --quiet https://github.com/greydanus/mnist1d /tmp/pip-req-build-v2nom8_h\n",
            "  Resolved https://github.com/greydanus/mnist1d to commit 7878d96082abd200c546a07a4101fa90b30fdf7e\n",
            "  Installing build dependencies ... \u001b[?25l\u001b[?25hdone\n",
            "  Getting requirements to build wheel ... \u001b[?25l\u001b[?25hdone\n",
            "  Preparing metadata (pyproject.toml) ... \u001b[?25l\u001b[?25hdone\n",
            "Requirement already satisfied: requests in /usr/local/lib/python3.10/dist-packages (from mnist1d==0.0.2.post16) (2.32.3)\n",
            "Requirement already satisfied: numpy in /usr/local/lib/python3.10/dist-packages (from mnist1d==0.0.2.post16) (1.26.4)\n",
            "Requirement already satisfied: matplotlib in /usr/local/lib/python3.10/dist-packages (from mnist1d==0.0.2.post16) (3.7.1)\n",
            "Requirement already satisfied: scipy in /usr/local/lib/python3.10/dist-packages (from mnist1d==0.0.2.post16) (1.13.1)\n",
            "Requirement already satisfied: contourpy>=1.0.1 in /usr/local/lib/python3.10/dist-packages (from matplotlib->mnist1d==0.0.2.post16) (1.3.0)\n",
            "Requirement already satisfied: cycler>=0.10 in /usr/local/lib/python3.10/dist-packages (from matplotlib->mnist1d==0.0.2.post16) (0.12.1)\n",
            "Requirement already satisfied: fonttools>=4.22.0 in /usr/local/lib/python3.10/dist-packages (from matplotlib->mnist1d==0.0.2.post16) (4.54.1)\n",
            "Requirement already satisfied: kiwisolver>=1.0.1 in /usr/local/lib/python3.10/dist-packages (from matplotlib->mnist1d==0.0.2.post16) (1.4.7)\n",
            "Requirement already satisfied: packaging>=20.0 in /usr/local/lib/python3.10/dist-packages (from matplotlib->mnist1d==0.0.2.post16) (24.1)\n",
            "Requirement already satisfied: pillow>=6.2.0 in /usr/local/lib/python3.10/dist-packages (from matplotlib->mnist1d==0.0.2.post16) (10.4.0)\n",
            "Requirement already satisfied: pyparsing>=2.3.1 in /usr/local/lib/python3.10/dist-packages (from matplotlib->mnist1d==0.0.2.post16) (3.2.0)\n",
            "Requirement already satisfied: python-dateutil>=2.7 in /usr/local/lib/python3.10/dist-packages (from matplotlib->mnist1d==0.0.2.post16) (2.8.2)\n",
            "Requirement already satisfied: charset-normalizer<4,>=2 in /usr/local/lib/python3.10/dist-packages (from requests->mnist1d==0.0.2.post16) (3.4.0)\n",
            "Requirement already satisfied: idna<4,>=2.5 in /usr/local/lib/python3.10/dist-packages (from requests->mnist1d==0.0.2.post16) (3.10)\n",
            "Requirement already satisfied: urllib3<3,>=1.21.1 in /usr/local/lib/python3.10/dist-packages (from requests->mnist1d==0.0.2.post16) (2.2.3)\n",
            "Requirement already satisfied: certifi>=2017.4.17 in /usr/local/lib/python3.10/dist-packages (from requests->mnist1d==0.0.2.post16) (2024.8.30)\n",
            "Requirement already satisfied: six>=1.5 in /usr/local/lib/python3.10/dist-packages (from python-dateutil>=2.7->matplotlib->mnist1d==0.0.2.post16) (1.16.0)\n"
          ]
        }
      ]
    },
    {
      "cell_type": "code",
      "source": [
        "import numpy as np\n",
        "import os\n",
        "import torch, torch.nn as nn\n",
        "from torch.utils.data import TensorDataset, DataLoader\n",
        "from torch.optim.lr_scheduler import StepLR\n",
        "import matplotlib.pyplot as plt\n",
        "import mnist1d\n",
        "import random"
      ],
      "metadata": {
        "id": "YrXWAH7sUWvU"
      },
      "execution_count": 2,
      "outputs": []
    },
    {
      "cell_type": "code",
      "source": [
        "args = mnist1d.data.get_dataset_args()\n",
        "data = mnist1d.data.get_dataset(args, path='./mnist1d_data.pkl', download=False, regenerate=False)\n",
        "\n",
        "# The training and test input and outputs are in\n",
        "# data['x'], data['y'], data['x_test'], and data['y_test']\n",
        "print(\"Examples in training set: {}\".format(len(data['y'])))\n",
        "print(\"Examples in test set: {}\".format(len(data['y_test'])))\n",
        "print(\"Length of each example: {}\".format(data['x'].shape[-1]))"
      ],
      "metadata": {
        "id": "twI72ZCrCt5z",
        "colab": {
          "base_uri": "https://localhost:8080/"
        },
        "outputId": "a6416007-f072-443d-fcc7-52ddc9b8df1f"
      },
      "execution_count": 4,
      "outputs": [
        {
          "output_type": "stream",
          "name": "stdout",
          "text": [
            "Did or could not load data from ./mnist1d_data.pkl. Rebuilding dataset...\n",
            "Examples in training set: 4000\n",
            "Examples in test set: 1000\n",
            "Length of each example: 40\n"
          ]
        }
      ]
    },
    {
      "cell_type": "code",
      "source": [
        "# Load in the data\n",
        "train_data_x = data['x'].transpose()\n",
        "train_data_y = data['y']\n",
        "val_data_x = data['x_test'].transpose()\n",
        "val_data_y = data['y_test']\n",
        "# Print out sizes\n",
        "print(\"Train data: %d examples (columns), each of which has %d dimensions (rows)\"%((train_data_x.shape[1],train_data_x.shape[0])))\n",
        "print(\"Validation data: %d examples (columns), each of which has %d dimensions (rows)\"%((val_data_x.shape[1],val_data_x.shape[0])))"
      ],
      "metadata": {
        "id": "8bKADvLHbiV5",
        "colab": {
          "base_uri": "https://localhost:8080/"
        },
        "outputId": "325b751e-b8e3-4c4a-fe36-7d935ae55132"
      },
      "execution_count": 5,
      "outputs": [
        {
          "output_type": "stream",
          "name": "stdout",
          "text": [
            "Train data: 4000 examples (columns), each of which has 40 dimensions (rows)\n",
            "Validation data: 1000 examples (columns), each of which has 40 dimensions (rows)\n"
          ]
        }
      ]
    },
    {
      "cell_type": "markdown",
      "source": [
        "Define the network"
      ],
      "metadata": {
        "id": "_sFvRDGrl4qe"
      }
    },
    {
      "cell_type": "code",
      "source": [
        "# There are 40 input dimensions and 10 output dimensions for this data\n",
        "# The inputs correspond to the 40 offsets in the MNIST1D template.\n",
        "D_i = 40\n",
        "# The outputs correspond to the 10 digits\n",
        "D_o = 10\n",
        "\n",
        "\n",
        "# TODO Create a model with the following layers\n",
        "# 1. Convolutional layer, (input=length 40 and 1 channel, kernel size 3, stride 2, padding=\"valid\", 15 output channels )\n",
        "# 2. ReLU\n",
        "# 3. Convolutional layer, (input=length 19 and 15 channels, kernel size 3, stride 2, padding=\"valid\", 15 output channels )\n",
        "# 4. ReLU\n",
        "# 5. Convolutional layer, (input=length 9 and 15 channels, kernel size 3, stride 2, padding=\"valid\", 15 output channels)\n",
        "# 6. ReLU\n",
        "# 7. Flatten (converts 4x15) to length 60\n",
        "# 8. Linear layer (input size = 60, output size = 10)\n",
        "# References:\n",
        "# https://pytorch.org/docs/1.13/generated/torch.nn.Conv1d.html?highlight=conv1d#torch.nn.Conv1d\n",
        "# https://pytorch.org/docs/stable/generated/torch.nn.Flatten.html\n",
        "# https://pytorch.org/docs/1.13/generated/torch.nn.Linear.html?highlight=linear#torch.nn.Linear\n",
        "\n",
        "# NOTE THAT THE CONVOLUTIONAL LAYERS NEED TO TAKE THE NUMBER OF INPUT CHANNELS AS A PARAMETER\n",
        "# AND NOT THE INPUT SIZE.\n",
        "\n",
        "# Replace the following function:\n",
        "model = nn.Sequential(\n",
        "    # Convolutional layer 1: input length 40, 1 input channel, 15 output channels, kernel size 3, stride 2\n",
        "    nn.Conv1d(in_channels=1, out_channels=15, kernel_size=3, stride=2, padding=0),\n",
        "    nn.ReLU(),\n",
        "\n",
        "    # Convolutional layer 2: input length reduced to 19, 15 input channels, 15 output channels, kernel size 3, stride 2\n",
        "    nn.Conv1d(in_channels=15, out_channels=15, kernel_size=3, stride=2, padding=0),\n",
        "    nn.ReLU(),\n",
        "\n",
        "    # Convolutional layer 3: input length reduced to 9, 15 input channels, 15 output channels, kernel size 3, stride 2\n",
        "    nn.Conv1d(in_channels=15, out_channels=15, kernel_size=3, stride=2, padding=0),\n",
        "    nn.ReLU(),\n",
        "\n",
        "    # Flatten the output: from (batch_size, 15, 4) -> (batch_size, 15 * 4)\n",
        "    nn.Flatten(),\n",
        "\n",
        "    # Linear layer: input size = 60 (15 channels * 4 length), output size = 10 (for 10 digits)\n",
        "    nn.Linear(in_features=60, out_features=10)\n",
        ")\n"
      ],
      "metadata": {
        "id": "FslroPJJffrh"
      },
      "execution_count": 8,
      "outputs": []
    },
    {
      "cell_type": "code",
      "source": [
        "# He initialization of weights\n",
        "def weights_init(layer_in):\n",
        "  if isinstance(layer_in, nn.Linear):\n",
        "    nn.init.kaiming_uniform_(layer_in.weight)\n",
        "    layer_in.bias.data.fill_(0.0)"
      ],
      "metadata": {
        "id": "YgLaex1pfhqz"
      },
      "execution_count": 9,
      "outputs": []
    },
    {
      "cell_type": "code",
      "source": [
        "# choose cross entropy loss function (equation 5.24 in the loss notes)\n",
        "loss_function = nn.CrossEntropyLoss()\n",
        "# construct SGD optimizer and initialize learning rate and momentum\n",
        "optimizer = torch.optim.SGD(model.parameters(), lr = 0.05, momentum=0.9)\n",
        "# object that decreases learning rate by half every 20 epochs\n",
        "scheduler = StepLR(optimizer, step_size=20, gamma=0.5)\n",
        "# create 100 dummy data points and store in data loader class\n",
        "x_train = torch.tensor(train_data_x.transpose().astype('float32'))\n",
        "y_train = torch.tensor(train_data_y.astype('long')).long()\n",
        "x_val= torch.tensor(val_data_x.transpose().astype('float32'))\n",
        "y_val = torch.tensor(val_data_y.astype('long')).long()\n",
        "\n",
        "# load the data into a class that creates the batches\n",
        "data_loader = DataLoader(TensorDataset(x_train,y_train), batch_size=100, shuffle=True, worker_init_fn=np.random.seed(1))\n",
        "\n",
        "# Initialize model weights\n",
        "model.apply(weights_init)\n",
        "\n",
        "# loop over the dataset n_epoch times\n",
        "n_epoch = 100\n",
        "# store the loss and the % correct at each epoch\n",
        "losses_train = np.zeros((n_epoch))\n",
        "errors_train = np.zeros((n_epoch))\n",
        "losses_val = np.zeros((n_epoch))\n",
        "errors_val = np.zeros((n_epoch))\n",
        "\n",
        "for epoch in range(n_epoch):\n",
        "  # loop over batches\n",
        "  for i, data in enumerate(data_loader):\n",
        "    # retrieve inputs and labels for this batch\n",
        "    x_batch, y_batch = data\n",
        "    # zero the parameter gradients\n",
        "    optimizer.zero_grad()\n",
        "    # forward pass -- calculate model output\n",
        "    pred = model(x_batch[:,None,:])\n",
        "    # compute the loss\n",
        "    loss = loss_function(pred, y_batch)\n",
        "    # backward pass\n",
        "    loss.backward()\n",
        "    # SGD update\n",
        "    optimizer.step()\n",
        "\n",
        "  # Run whole dataset to get statistics -- normally wouldn't do this\n",
        "  pred_train = model(x_train[:,None,:])\n",
        "  pred_val = model(x_val[:,None,:])\n",
        "  _, predicted_train_class = torch.max(pred_train.data, 1)\n",
        "  _, predicted_val_class = torch.max(pred_val.data, 1)\n",
        "  errors_train[epoch] = 100 - 100 * (predicted_train_class == y_train).float().sum() / len(y_train)\n",
        "  errors_val[epoch]= 100 - 100 * (predicted_val_class == y_val).float().sum() / len(y_val)\n",
        "  losses_train[epoch] = loss_function(pred_train, y_train).item()\n",
        "  losses_val[epoch]= loss_function(pred_val, y_val).item()\n",
        "  print(f'Epoch {epoch:5d}, train loss {losses_train[epoch]:.6f}, train error {errors_train[epoch]:3.2f},  val loss {losses_val[epoch]:.6f}, percent error {errors_val[epoch]:3.2f}')\n",
        "\n",
        "  # tell scheduler to consider updating learning rate\n",
        "  scheduler.step()\n",
        "\n",
        "# Plot the results\n",
        "fig, ax = plt.subplots()\n",
        "ax.plot(errors_train,'r-',label='train')\n",
        "ax.plot(errors_val,'b-',label='validation')\n",
        "ax.set_ylim(0,100); ax.set_xlim(0,n_epoch)\n",
        "ax.set_xlabel('Epoch'); ax.set_ylabel('Error')\n",
        "ax.set_title('Part I: Validation Result %3.2f'%(errors_val[-1]))\n",
        "ax.legend()\n",
        "plt.show()"
      ],
      "metadata": {
        "id": "NYw8I_3mmX5c",
        "colab": {
          "base_uri": "https://localhost:8080/",
          "height": 1000
        },
        "outputId": "55651cc0-d3c8-42db-ff2a-cd38a55fc384"
      },
      "execution_count": 10,
      "outputs": [
        {
          "output_type": "stream",
          "name": "stdout",
          "text": [
            "Epoch     0, train loss 1.878852, train error 74.88,  val loss 1.883937, percent error 76.60\n",
            "Epoch     1, train loss 1.486013, train error 59.17,  val loss 1.483744, percent error 62.00\n",
            "Epoch     2, train loss 1.274032, train error 50.70,  val loss 1.293537, percent error 53.80\n",
            "Epoch     3, train loss 1.154422, train error 45.83,  val loss 1.170486, percent error 48.60\n",
            "Epoch     4, train loss 1.231695, train error 47.75,  val loss 1.247518, percent error 50.60\n",
            "Epoch     5, train loss 1.002697, train error 38.53,  val loss 1.054600, percent error 41.20\n",
            "Epoch     6, train loss 0.866064, train error 34.40,  val loss 0.893231, percent error 37.10\n",
            "Epoch     7, train loss 0.779196, train error 30.68,  val loss 0.833635, percent error 31.60\n",
            "Epoch     8, train loss 0.657717, train error 26.38,  val loss 0.714339, percent error 29.80\n",
            "Epoch     9, train loss 0.605952, train error 23.85,  val loss 0.657132, percent error 27.30\n",
            "Epoch    10, train loss 0.522017, train error 20.00,  val loss 0.603865, percent error 25.00\n",
            "Epoch    11, train loss 0.493292, train error 19.88,  val loss 0.565306, percent error 23.10\n",
            "Epoch    12, train loss 0.478012, train error 19.03,  val loss 0.552301, percent error 23.50\n",
            "Epoch    13, train loss 0.433716, train error 17.15,  val loss 0.531166, percent error 21.80\n",
            "Epoch    14, train loss 0.408994, train error 16.82,  val loss 0.505702, percent error 22.20\n",
            "Epoch    15, train loss 0.391261, train error 15.75,  val loss 0.511263, percent error 20.00\n",
            "Epoch    16, train loss 0.322767, train error 12.68,  val loss 0.441832, percent error 16.00\n",
            "Epoch    17, train loss 0.386928, train error 15.03,  val loss 0.543334, percent error 18.40\n",
            "Epoch    18, train loss 0.266260, train error 10.32,  val loss 0.439915, percent error 16.20\n",
            "Epoch    19, train loss 0.249165, train error 9.22,  val loss 0.399477, percent error 13.10\n",
            "Epoch    20, train loss 0.184404, train error 6.10,  val loss 0.340871, percent error 12.60\n",
            "Epoch    21, train loss 0.168873, train error 5.47,  val loss 0.347635, percent error 11.90\n",
            "Epoch    22, train loss 0.175611, train error 5.88,  val loss 0.354663, percent error 11.90\n",
            "Epoch    23, train loss 0.153632, train error 4.88,  val loss 0.355629, percent error 12.10\n",
            "Epoch    24, train loss 0.143780, train error 4.75,  val loss 0.327867, percent error 11.20\n",
            "Epoch    25, train loss 0.140147, train error 4.78,  val loss 0.354378, percent error 11.80\n",
            "Epoch    26, train loss 0.143955, train error 4.85,  val loss 0.354618, percent error 11.50\n",
            "Epoch    27, train loss 0.132569, train error 4.22,  val loss 0.355167, percent error 12.10\n",
            "Epoch    28, train loss 0.125616, train error 4.18,  val loss 0.347290, percent error 11.30\n",
            "Epoch    29, train loss 0.132580, train error 4.60,  val loss 0.339446, percent error 10.50\n",
            "Epoch    30, train loss 0.135571, train error 4.62,  val loss 0.342859, percent error 12.10\n",
            "Epoch    31, train loss 0.115871, train error 3.93,  val loss 0.345467, percent error 10.60\n",
            "Epoch    32, train loss 0.107687, train error 3.60,  val loss 0.343673, percent error 11.60\n",
            "Epoch    33, train loss 0.096699, train error 3.00,  val loss 0.338928, percent error 11.00\n",
            "Epoch    34, train loss 0.110734, train error 3.80,  val loss 0.327262, percent error 9.90\n",
            "Epoch    35, train loss 0.098594, train error 3.53,  val loss 0.343172, percent error 10.10\n",
            "Epoch    36, train loss 0.091261, train error 2.85,  val loss 0.342941, percent error 10.20\n",
            "Epoch    37, train loss 0.083955, train error 2.55,  val loss 0.353957, percent error 10.60\n",
            "Epoch    38, train loss 0.084513, train error 2.82,  val loss 0.344249, percent error 10.60\n",
            "Epoch    39, train loss 0.076707, train error 2.53,  val loss 0.370002, percent error 11.30\n",
            "Epoch    40, train loss 0.072836, train error 2.47,  val loss 0.358617, percent error 10.50\n",
            "Epoch    41, train loss 0.058478, train error 1.50,  val loss 0.343033, percent error 10.10\n",
            "Epoch    42, train loss 0.055758, train error 1.38,  val loss 0.338230, percent error 10.10\n",
            "Epoch    43, train loss 0.058668, train error 1.55,  val loss 0.345036, percent error 10.40\n",
            "Epoch    44, train loss 0.062917, train error 1.90,  val loss 0.360336, percent error 10.00\n",
            "Epoch    45, train loss 0.055907, train error 1.38,  val loss 0.352291, percent error 10.10\n",
            "Epoch    46, train loss 0.049498, train error 1.15,  val loss 0.346553, percent error 10.30\n",
            "Epoch    47, train loss 0.050180, train error 1.28,  val loss 0.353573, percent error 9.50\n",
            "Epoch    48, train loss 0.051775, train error 1.30,  val loss 0.365824, percent error 9.90\n",
            "Epoch    49, train loss 0.049558, train error 1.32,  val loss 0.348920, percent error 10.10\n",
            "Epoch    50, train loss 0.050621, train error 1.30,  val loss 0.363900, percent error 9.90\n",
            "Epoch    51, train loss 0.047418, train error 1.12,  val loss 0.356456, percent error 9.70\n",
            "Epoch    52, train loss 0.047048, train error 1.10,  val loss 0.354374, percent error 10.10\n",
            "Epoch    53, train loss 0.047154, train error 1.40,  val loss 0.357300, percent error 10.00\n",
            "Epoch    54, train loss 0.043951, train error 1.25,  val loss 0.361510, percent error 10.50\n",
            "Epoch    55, train loss 0.040791, train error 0.82,  val loss 0.359219, percent error 10.20\n",
            "Epoch    56, train loss 0.043244, train error 1.10,  val loss 0.372122, percent error 10.00\n",
            "Epoch    57, train loss 0.039913, train error 0.82,  val loss 0.372418, percent error 10.40\n",
            "Epoch    58, train loss 0.040075, train error 0.93,  val loss 0.371266, percent error 9.80\n",
            "Epoch    59, train loss 0.041714, train error 0.82,  val loss 0.379912, percent error 9.70\n",
            "Epoch    60, train loss 0.035373, train error 0.70,  val loss 0.373557, percent error 9.80\n",
            "Epoch    61, train loss 0.034952, train error 0.75,  val loss 0.378251, percent error 9.90\n",
            "Epoch    62, train loss 0.034170, train error 0.68,  val loss 0.373505, percent error 9.80\n",
            "Epoch    63, train loss 0.034385, train error 0.62,  val loss 0.373375, percent error 10.10\n",
            "Epoch    64, train loss 0.033287, train error 0.70,  val loss 0.375828, percent error 9.60\n",
            "Epoch    65, train loss 0.034003, train error 0.70,  val loss 0.383472, percent error 10.00\n",
            "Epoch    66, train loss 0.032980, train error 0.65,  val loss 0.379492, percent error 10.40\n",
            "Epoch    67, train loss 0.032689, train error 0.72,  val loss 0.378475, percent error 10.00\n",
            "Epoch    68, train loss 0.032010, train error 0.62,  val loss 0.386148, percent error 9.90\n",
            "Epoch    69, train loss 0.031141, train error 0.60,  val loss 0.384864, percent error 9.90\n",
            "Epoch    70, train loss 0.030844, train error 0.65,  val loss 0.387601, percent error 10.10\n",
            "Epoch    71, train loss 0.030972, train error 0.55,  val loss 0.387701, percent error 10.00\n",
            "Epoch    72, train loss 0.031031, train error 0.60,  val loss 0.389662, percent error 9.90\n",
            "Epoch    73, train loss 0.030064, train error 0.60,  val loss 0.391887, percent error 9.80\n",
            "Epoch    74, train loss 0.029896, train error 0.53,  val loss 0.392454, percent error 10.10\n",
            "Epoch    75, train loss 0.029305, train error 0.47,  val loss 0.393873, percent error 9.50\n",
            "Epoch    76, train loss 0.030790, train error 0.60,  val loss 0.401318, percent error 9.70\n",
            "Epoch    77, train loss 0.028494, train error 0.53,  val loss 0.395468, percent error 9.90\n",
            "Epoch    78, train loss 0.028408, train error 0.40,  val loss 0.397852, percent error 10.40\n",
            "Epoch    79, train loss 0.028201, train error 0.45,  val loss 0.402270, percent error 10.00\n",
            "Epoch    80, train loss 0.027430, train error 0.43,  val loss 0.399258, percent error 9.90\n",
            "Epoch    81, train loss 0.027425, train error 0.43,  val loss 0.403025, percent error 9.50\n",
            "Epoch    82, train loss 0.027039, train error 0.40,  val loss 0.400099, percent error 9.90\n",
            "Epoch    83, train loss 0.026842, train error 0.40,  val loss 0.400193, percent error 9.80\n",
            "Epoch    84, train loss 0.026717, train error 0.43,  val loss 0.399963, percent error 10.00\n",
            "Epoch    85, train loss 0.026454, train error 0.38,  val loss 0.402782, percent error 9.90\n",
            "Epoch    86, train loss 0.026364, train error 0.40,  val loss 0.403361, percent error 9.90\n",
            "Epoch    87, train loss 0.026418, train error 0.40,  val loss 0.403439, percent error 10.00\n",
            "Epoch    88, train loss 0.026253, train error 0.30,  val loss 0.407506, percent error 9.70\n",
            "Epoch    89, train loss 0.025978, train error 0.28,  val loss 0.405248, percent error 10.30\n",
            "Epoch    90, train loss 0.025742, train error 0.35,  val loss 0.404765, percent error 10.00\n",
            "Epoch    91, train loss 0.025692, train error 0.32,  val loss 0.406469, percent error 10.10\n",
            "Epoch    92, train loss 0.025452, train error 0.32,  val loss 0.407478, percent error 10.10\n",
            "Epoch    93, train loss 0.025545, train error 0.30,  val loss 0.409430, percent error 9.80\n",
            "Epoch    94, train loss 0.025303, train error 0.28,  val loss 0.408500, percent error 10.00\n",
            "Epoch    95, train loss 0.025659, train error 0.32,  val loss 0.412176, percent error 10.30\n",
            "Epoch    96, train loss 0.024911, train error 0.25,  val loss 0.411487, percent error 10.00\n",
            "Epoch    97, train loss 0.025554, train error 0.38,  val loss 0.412455, percent error 10.00\n",
            "Epoch    98, train loss 0.024657, train error 0.28,  val loss 0.412223, percent error 9.90\n",
            "Epoch    99, train loss 0.024497, train error 0.25,  val loss 0.412923, percent error 9.90\n"
          ]
        },
        {
          "output_type": "display_data",
          "data": {
            "text/plain": [
              "<Figure size 640x480 with 1 Axes>"
            ],
            "image/png": "[encoded data removed]"
          },
          "metadata": {}
        }
      ]
    }
  ]
}