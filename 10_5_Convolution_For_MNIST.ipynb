{
  "nbformat": 4,
  "nbformat_minor": 0,
  "metadata": {
    "colab": {
      "provenance": [],
      "include_colab_link": true
    },
    "kernelspec": {
      "name": "python3",
      "display_name": "Python 3"
    },
    "language_info": {
      "name": "python"
    }
  },
  "cells": [
    {
      "cell_type": "markdown",
      "metadata": {
        "id": "view-in-github",
        "colab_type": "text"
      },
      "source": [
        "<a href=\"https://colab.research.google.com/github/saridango/csci-167/blob/main/10_5_Convolution_For_MNIST.ipynb\" target=\"_parent\"><img src=\"https://colab.research.google.com/assets/colab-badge.svg\" alt=\"Open In Colab\"/></a>"
      ]
    },
    {
      "cell_type": "markdown",
      "source": [
        "# **Notebook 10.5: Convolution for MNIST**\n",
        "\n",
        "This notebook builds a proper network for 2D convolution.  It works with the MNIST dataset (figure 15.15a), which was the original classic dataset for classifying images.  The network will take a 28x28 grayscale image and classify it into one of 10 classes representing a digit.\n",
        "\n",
        "The code is adapted from https://nextjournal.com/gkoehler/pytorch-mnist\n",
        "\n",
        "Work through the cells below, running each cell in turn. In various places you will see the words \"TO DO\". Follow the instructions at these places and make predictions about what is going to happen or write code to complete the functions.\n",
        "\n",
        "Contact me at udlbookmail@gmail.com if you find any mistakes or have any suggestions.\n"
      ],
      "metadata": {
        "id": "t9vk9Elugvmi"
      }
    },
    {
      "cell_type": "code",
      "source": [
        "import torch\n",
        "import torchvision\n",
        "import torch.nn as nn\n",
        "import torch.nn.functional as F\n",
        "import torch.optim as optim\n",
        "import matplotlib.pyplot as plt\n",
        "import random"
      ],
      "metadata": {
        "id": "YrXWAH7sUWvU"
      },
      "execution_count": 1,
      "outputs": []
    },
    {
      "cell_type": "code",
      "source": [
        "# Run this once to load the train and test data straight into a dataloader class\n",
        "# that will provide the batches\n",
        "\n",
        "# (It may complain that some files are missing because the files seem to have been\n",
        "# reorganized on the underlying website, but it still seems to work). If everything is working\n",
        "# properly, then the whole notebook should run to the end without further problems\n",
        "# even before you make changes.\n",
        "batch_size_train = 64\n",
        "batch_size_test = 1000\n",
        "\n",
        "# TODO Change this directory to point towards an existing directory\n",
        "myDir = '/files/'\n",
        "\n",
        "train_loader = torch.utils.data.DataLoader(\n",
        "  torchvision.datasets.MNIST(myDir, train=True, download=True,\n",
        "                             transform=torchvision.transforms.Compose([\n",
        "                               torchvision.transforms.ToTensor(),\n",
        "                               torchvision.transforms.Normalize(\n",
        "                                 (0.1307,), (0.3081,))\n",
        "                             ])),\n",
        "  batch_size=batch_size_train, shuffle=True)\n",
        "\n",
        "test_loader = torch.utils.data.DataLoader(\n",
        "  torchvision.datasets.MNIST(myDir, train=False, download=True,\n",
        "                             transform=torchvision.transforms.Compose([\n",
        "                               torchvision.transforms.ToTensor(),\n",
        "                               torchvision.transforms.Normalize(\n",
        "                                 (0.1307,), (0.3081,))\n",
        "                             ])),\n",
        "  batch_size=batch_size_test, shuffle=True)"
      ],
      "metadata": {
        "id": "wScBGXXFVadm",
        "colab": {
          "base_uri": "https://localhost:8080/"
        },
        "outputId": "8946674a-8ea2-4e4f-ed31-a3764dfb8522"
      },
      "execution_count": 2,
      "outputs": [
        {
          "output_type": "stream",
          "name": "stdout",
          "text": [
            "Downloading http://yann.lecun.com/exdb/mnist/train-images-idx3-ubyte.gz\n",
            "Failed to download (trying next):\n",
            "<urlopen error [SSL: CERTIFICATE_VERIFY_FAILED] certificate verify failed: certificate has expired (_ssl.c:1007)>\n",
            "\n",
            "Downloading https://ossci-datasets.s3.amazonaws.com/mnist/train-images-idx3-ubyte.gz\n",
            "Downloading https://ossci-datasets.s3.amazonaws.com/mnist/train-images-idx3-ubyte.gz to /files/MNIST/raw/train-images-idx3-ubyte.gz\n"
          ]
        },
        {
          "output_type": "stream",
          "name": "stderr",
          "text": [
            "100%|██████████| 9.91M/9.91M [00:00<00:00, 17.4MB/s]\n"
          ]
        },
        {
          "output_type": "stream",
          "name": "stdout",
          "text": [
            "Extracting /files/MNIST/raw/train-images-idx3-ubyte.gz to /files/MNIST/raw\n",
            "\n",
            "Downloading http://yann.lecun.com/exdb/mnist/train-labels-idx1-ubyte.gz\n",
            "Failed to download (trying next):\n",
            "<urlopen error [SSL: CERTIFICATE_VERIFY_FAILED] certificate verify failed: certificate has expired (_ssl.c:1007)>\n",
            "\n",
            "Downloading https://ossci-datasets.s3.amazonaws.com/mnist/train-labels-idx1-ubyte.gz\n",
            "Downloading https://ossci-datasets.s3.amazonaws.com/mnist/train-labels-idx1-ubyte.gz to /files/MNIST/raw/train-labels-idx1-ubyte.gz\n"
          ]
        },
        {
          "output_type": "stream",
          "name": "stderr",
          "text": [
            "100%|██████████| 28.9k/28.9k [00:00<00:00, 487kB/s]\n"
          ]
        },
        {
          "output_type": "stream",
          "name": "stdout",
          "text": [
            "Extracting /files/MNIST/raw/train-labels-idx1-ubyte.gz to /files/MNIST/raw\n",
            "\n",
            "Downloading http://yann.lecun.com/exdb/mnist/t10k-images-idx3-ubyte.gz\n",
            "Failed to download (trying next):\n",
            "<urlopen error [SSL: CERTIFICATE_VERIFY_FAILED] certificate verify failed: certificate has expired (_ssl.c:1007)>\n",
            "\n",
            "Downloading https://ossci-datasets.s3.amazonaws.com/mnist/t10k-images-idx3-ubyte.gz\n",
            "Downloading https://ossci-datasets.s3.amazonaws.com/mnist/t10k-images-idx3-ubyte.gz to /files/MNIST/raw/t10k-images-idx3-ubyte.gz\n"
          ]
        },
        {
          "output_type": "stream",
          "name": "stderr",
          "text": [
            "100%|██████████| 1.65M/1.65M [00:00<00:00, 4.39MB/s]\n"
          ]
        },
        {
          "output_type": "stream",
          "name": "stdout",
          "text": [
            "Extracting /files/MNIST/raw/t10k-images-idx3-ubyte.gz to /files/MNIST/raw\n",
            "\n",
            "Downloading http://yann.lecun.com/exdb/mnist/t10k-labels-idx1-ubyte.gz\n",
            "Failed to download (trying next):\n",
            "<urlopen error [SSL: CERTIFICATE_VERIFY_FAILED] certificate verify failed: certificate has expired (_ssl.c:1007)>\n",
            "\n",
            "Downloading https://ossci-datasets.s3.amazonaws.com/mnist/t10k-labels-idx1-ubyte.gz\n",
            "Downloading https://ossci-datasets.s3.amazonaws.com/mnist/t10k-labels-idx1-ubyte.gz to /files/MNIST/raw/t10k-labels-idx1-ubyte.gz\n"
          ]
        },
        {
          "output_type": "stream",
          "name": "stderr",
          "text": [
            "100%|██████████| 4.54k/4.54k [00:00<00:00, 5.73MB/s]\n"
          ]
        },
        {
          "output_type": "stream",
          "name": "stdout",
          "text": [
            "Extracting /files/MNIST/raw/t10k-labels-idx1-ubyte.gz to /files/MNIST/raw\n",
            "\n"
          ]
        }
      ]
    },
    {
      "cell_type": "code",
      "source": [
        "# Let's draw some of the training data\n",
        "examples = enumerate(test_loader)\n",
        "batch_idx, (example_data, example_targets) = next(examples)\n",
        "\n",
        "fig = plt.figure()\n",
        "for i in range(6):\n",
        "  plt.subplot(2,3,i+1)\n",
        "  plt.tight_layout()\n",
        "  plt.imshow(example_data[i][0], cmap='gray', interpolation='none')\n",
        "  plt.title(\"Ground Truth: {}\".format(example_targets[i]))\n",
        "  plt.xticks([])\n",
        "  plt.yticks([])\n",
        "plt.show()"
      ],
      "metadata": {
        "id": "8bKADvLHbiV5",
        "colab": {
          "base_uri": "https://localhost:8080/",
          "height": 438
        },
        "outputId": "e8217a91-3da2-4994-f2bb-01c7f8fb3636"
      },
      "execution_count": 3,
      "outputs": [
        {
          "output_type": "display_data",
          "data": {
            "text/plain": [
              "<Figure size 640x480 with 6 Axes>"
            ],
            "image/png": "[encoded data removed]"
          },
          "metadata": {}
        }
      ]
    },
    {
      "cell_type": "markdown",
      "source": [
        "Define the network.  This is a more typical way to define a network than the sequential structure.  We define a class for the network, and define the parameters in the constructor.  Then we use a function called forward to actually run the network.  It's easy to see how you might use residual connections in this format."
      ],
      "metadata": {
        "id": "_sFvRDGrl4qe"
      }
    },
    {
      "cell_type": "code",
      "source": [
        "from os import X_OK\n",
        "class Net(nn.Module):\n",
        "    def __init__(self):\n",
        "        super(Net, self).__init__()\n",
        "\n",
        "        # 1. First valid convolution layer: 1 input channel, 10 output channels, kernel size 5\n",
        "        self.conv1 = nn.Conv2d(1, 10, kernel_size=5)  # Output size: (28-5+1) = 24 x 24\n",
        "\n",
        "        # 2. First max pooling operation over a 2x2 area\n",
        "        self.pool1 = nn.MaxPool2d(kernel_size=2, stride=2)  # Output size: 24/2 = 12 x 12\n",
        "\n",
        "        # 3. First ReLU activation\n",
        "        self.relu1 = nn.ReLU()\n",
        "\n",
        "        # 4. Second valid convolution layer: 10 input channels, 20 output channels, kernel size 5\n",
        "        self.conv2 = nn.Conv2d(10, 20, kernel_size=5)  # Output size: (12-5+1) = 8 x 8\n",
        "\n",
        "        # 5. 2D Dropout layer\n",
        "        self.dropout = nn.Dropout2d()\n",
        "\n",
        "        # 6. Second max pooling operation over a 2x2 area\n",
        "        self.pool2 = nn.MaxPool2d(kernel_size=2, stride=2)  # Output size: 8/2 = 4 x 4\n",
        "\n",
        "        # 7. Second ReLU activation\n",
        "        self.relu2 = nn.ReLU()\n",
        "\n",
        "        # 8. Flattening operation\n",
        "        # 9. Fully connected layer mapping from (4 * 4 * 20 = 320) to 50\n",
        "        self.fc1 = nn.Linear(4 * 4 * 20, 50)  # Output size: 50\n",
        "\n",
        "        # 10. Third ReLU activation\n",
        "        self.relu3 = nn.ReLU()\n",
        "\n",
        "        # 11. Fully connected layer mapping from 50 to 10 dimensions\n",
        "        self.fc2 = nn.Linear(50, 10)  # Output size: 10\n",
        "\n",
        "    def forward(self, x):\n",
        "        # Forward pass through the network\n",
        "        x = self.conv1(x)          # Convolution 1\n",
        "        x = self.pool1(x)         # Max pooling 1\n",
        "        x = self.relu1(x)         # ReLU 1\n",
        "        x = self.conv2(x)         # Convolution 2\n",
        "        x = self.pool2(x)         # Max pooling 2\n",
        "        x = self.dropout(x)       # Dropout\n",
        "        x = self.relu2(x)         # ReLU 2\n",
        "        x = x.flatten(1)          # Flattening\n",
        "        x = self.fc1(x)           # Fully connected layer 1\n",
        "        x = self.relu3(x)         # ReLU 3\n",
        "        x = self.fc2(x)           # Fully connected layer 2\n",
        "        x = F.log_softmax(x, dim=1)  # Softmax output for classification\n",
        "        return x\n",
        "\n",
        "\n"
      ],
      "metadata": {
        "id": "EQkvw2KOPVl7"
      },
      "execution_count": 4,
      "outputs": []
    },
    {
      "cell_type": "code",
      "source": [
        "# He initialization of weights\n",
        "def weights_init(layer_in):\n",
        "  if isinstance(layer_in, nn.Linear):\n",
        "    nn.init.kaiming_uniform_(layer_in.weight)\n",
        "    layer_in.bias.data.fill_(0.0)"
      ],
      "metadata": {
        "id": "qWZtkCZcU_dg"
      },
      "execution_count": 5,
      "outputs": []
    },
    {
      "cell_type": "code",
      "source": [
        "# Create network\n",
        "model = Net()\n",
        "# Initialize model weights\n",
        "model.apply(weights_init)\n",
        "# Define optimizer\n",
        "optimizer = optim.SGD(model.parameters(), lr=0.01, momentum=0.5)"
      ],
      "metadata": {
        "id": "FslroPJJffrh"
      },
      "execution_count": 6,
      "outputs": []
    },
    {
      "cell_type": "code",
      "source": [
        "# Main training routine\n",
        "def train(epoch):\n",
        "  model.train()\n",
        "  # Get each\n",
        "  for batch_idx, (data, target) in enumerate(train_loader):\n",
        "    optimizer.zero_grad()\n",
        "    output = model(data)\n",
        "    loss = F.nll_loss(output, target)\n",
        "    loss.backward()\n",
        "    optimizer.step()\n",
        "    # Store results\n",
        "    if batch_idx % 10 == 0:\n",
        "      print('Train Epoch: {} [{}/{}]\\tLoss: {:.6f}'.format(\n",
        "        epoch, batch_idx * len(data), len(train_loader.dataset), loss.item()))"
      ],
      "metadata": {
        "id": "xKQd9PzkQ766"
      },
      "execution_count": 7,
      "outputs": []
    },
    {
      "cell_type": "code",
      "source": [
        "# Run on test data\n",
        "def test():\n",
        "  model.eval()\n",
        "  test_loss = 0\n",
        "  correct = 0\n",
        "  with torch.no_grad():\n",
        "    for data, target in test_loader:\n",
        "      output = model(data)\n",
        "      test_loss += F.nll_loss(output, target, size_average=False).item()\n",
        "      pred = output.data.max(1, keepdim=True)[1]\n",
        "      correct += pred.eq(target.data.view_as(pred)).sum()\n",
        "  test_loss /= len(test_loader.dataset)\n",
        "  print('\\nTest set: Avg. loss: {:.4f}, Accuracy: {}/{} ({:.0f}%)\\n'.format(\n",
        "    test_loss, correct, len(test_loader.dataset),\n",
        "    100. * correct / len(test_loader.dataset)))"
      ],
      "metadata": {
        "id": "Byn-f7qWRLxX"
      },
      "execution_count": 8,
      "outputs": []
    },
    {
      "cell_type": "code",
      "source": [
        "# Get initial performance\n",
        "test()\n",
        "# Train for three epochs\n",
        "n_epochs = 3\n",
        "for epoch in range(1, n_epochs + 1):\n",
        "  train(epoch)\n",
        "  test()"
      ],
      "metadata": {
        "id": "YgLaex1pfhqz",
        "colab": {
          "base_uri": "https://localhost:8080/"
        },
        "outputId": "aa5c64a1-8244-43b3-e3a6-c3973e47a184"
      },
      "execution_count": 9,
      "outputs": [
        {
          "output_type": "stream",
          "name": "stderr",
          "text": [
            "/usr/local/lib/python3.10/dist-packages/torch/nn/_reduction.py:51: UserWarning: size_average and reduce args will be deprecated, please use reduction='sum' instead.\n",
            "  warnings.warn(warning.format(ret))\n"
          ]
        },
        {
          "output_type": "stream",
          "name": "stdout",
          "text": [
            "\n",
            "Test set: Avg. loss: 2.9430, Accuracy: 974/10000 (10%)\n",
            "\n",
            "Train Epoch: 1 [0/60000]\tLoss: 3.346946\n",
            "Train Epoch: 1 [640/60000]\tLoss: 2.269967\n",
            "Train Epoch: 1 [1280/60000]\tLoss: 2.193005\n",
            "Train Epoch: 1 [1920/60000]\tLoss: 2.037807\n",
            "Train Epoch: 1 [2560/60000]\tLoss: 1.698960\n",
            "Train Epoch: 1 [3200/60000]\tLoss: 1.497121\n",
            "Train Epoch: 1 [3840/60000]\tLoss: 1.585083\n",
            "Train Epoch: 1 [4480/60000]\tLoss: 1.320752\n",
            "Train Epoch: 1 [5120/60000]\tLoss: 1.373724\n",
            "Train Epoch: 1 [5760/60000]\tLoss: 1.194447\n",
            "Train Epoch: 1 [6400/60000]\tLoss: 0.978010\n",
            "Train Epoch: 1 [7040/60000]\tLoss: 0.946433\n",
            "Train Epoch: 1 [7680/60000]\tLoss: 0.790804\n",
            "Train Epoch: 1 [8320/60000]\tLoss: 0.888425\n",
            "Train Epoch: 1 [8960/60000]\tLoss: 0.762680\n",
            "Train Epoch: 1 [9600/60000]\tLoss: 0.758581\n",
            "Train Epoch: 1 [10240/60000]\tLoss: 0.813724\n",
            "Train Epoch: 1 [10880/60000]\tLoss: 0.513366\n",
            "Train Epoch: 1 [11520/60000]\tLoss: 0.804773\n",
            "Train Epoch: 1 [12160/60000]\tLoss: 0.702871\n",
            "Train Epoch: 1 [12800/60000]\tLoss: 0.478125\n",
            "Train Epoch: 1 [13440/60000]\tLoss: 0.725416\n",
            "Train Epoch: 1 [14080/60000]\tLoss: 0.519981\n",
            "Train Epoch: 1 [14720/60000]\tLoss: 0.447052\n",
            "Train Epoch: 1 [15360/60000]\tLoss: 0.408726\n",
            "Train Epoch: 1 [16000/60000]\tLoss: 0.395471\n",
            "Train Epoch: 1 [16640/60000]\tLoss: 0.663235\n",
            "Train Epoch: 1 [17280/60000]\tLoss: 0.474489\n",
            "Train Epoch: 1 [17920/60000]\tLoss: 0.365379\n",
            "Train Epoch: 1 [18560/60000]\tLoss: 0.671121\n",
            "Train Epoch: 1 [19200/60000]\tLoss: 0.416217\n",
            "Train Epoch: 1 [19840/60000]\tLoss: 0.524530\n",
            "Train Epoch: 1 [20480/60000]\tLoss: 0.438424\n",
            "Train Epoch: 1 [21120/60000]\tLoss: 0.386349\n",
            "Train Epoch: 1 [21760/60000]\tLoss: 0.480412\n",
            "Train Epoch: 1 [22400/60000]\tLoss: 0.373552\n",
            "Train Epoch: 1 [23040/60000]\tLoss: 0.730775\n",
            "Train Epoch: 1 [23680/60000]\tLoss: 0.297192\n",
            "Train Epoch: 1 [24320/60000]\tLoss: 0.496755\n",
            "Train Epoch: 1 [24960/60000]\tLoss: 0.328323\n",
            "Train Epoch: 1 [25600/60000]\tLoss: 0.315928\n",
            "Train Epoch: 1 [26240/60000]\tLoss: 0.453285\n",
            "Train Epoch: 1 [26880/60000]\tLoss: 0.280427\n",
            "Train Epoch: 1 [27520/60000]\tLoss: 0.527696\n",
            "Train Epoch: 1 [28160/60000]\tLoss: 0.337668\n",
            "Train Epoch: 1 [28800/60000]\tLoss: 0.406882\n",
            "Train Epoch: 1 [29440/60000]\tLoss: 0.334857\n",
            "Train Epoch: 1 [30080/60000]\tLoss: 0.316657\n",
            "Train Epoch: 1 [30720/60000]\tLoss: 0.301017\n",
            "Train Epoch: 1 [31360/60000]\tLoss: 0.344446\n",
            "Train Epoch: 1 [32000/60000]\tLoss: 0.269944\n",
            "Train Epoch: 1 [32640/60000]\tLoss: 0.388601\n",
            "Train Epoch: 1 [33280/60000]\tLoss: 0.433477\n",
            "Train Epoch: 1 [33920/60000]\tLoss: 0.226399\n",
            "Train Epoch: 1 [34560/60000]\tLoss: 0.217913\n",
            "Train Epoch: 1 [35200/60000]\tLoss: 0.467464\n",
            "Train Epoch: 1 [35840/60000]\tLoss: 0.275716\n",
            "Train Epoch: 1 [36480/60000]\tLoss: 0.193419\n",
            "Train Epoch: 1 [37120/60000]\tLoss: 0.444875\n",
            "Train Epoch: 1 [37760/60000]\tLoss: 0.219649\n",
            "Train Epoch: 1 [38400/60000]\tLoss: 0.320241\n",
            "Train Epoch: 1 [39040/60000]\tLoss: 0.277627\n",
            "Train Epoch: 1 [39680/60000]\tLoss: 0.293064\n",
            "Train Epoch: 1 [40320/60000]\tLoss: 0.242232\n",
            "Train Epoch: 1 [40960/60000]\tLoss: 0.262529\n",
            "Train Epoch: 1 [41600/60000]\tLoss: 0.535222\n",
            "Train Epoch: 1 [42240/60000]\tLoss: 0.472664\n",
            "Train Epoch: 1 [42880/60000]\tLoss: 0.176154\n",
            "Train Epoch: 1 [43520/60000]\tLoss: 0.145799\n",
            "Train Epoch: 1 [44160/60000]\tLoss: 0.272210\n",
            "Train Epoch: 1 [44800/60000]\tLoss: 0.294692\n",
            "Train Epoch: 1 [45440/60000]\tLoss: 0.177764\n",
            "Train Epoch: 1 [46080/60000]\tLoss: 0.261554\n",
            "Train Epoch: 1 [46720/60000]\tLoss: 0.231990\n",
            "Train Epoch: 1 [47360/60000]\tLoss: 0.257395\n",
            "Train Epoch: 1 [48000/60000]\tLoss: 0.351705\n",
            "Train Epoch: 1 [48640/60000]\tLoss: 0.328684\n",
            "Train Epoch: 1 [49280/60000]\tLoss: 0.281795\n",
            "Train Epoch: 1 [49920/60000]\tLoss: 0.196052\n",
            "Train Epoch: 1 [50560/60000]\tLoss: 0.265722\n",
            "Train Epoch: 1 [51200/60000]\tLoss: 0.432227\n",
            "Train Epoch: 1 [51840/60000]\tLoss: 0.411173\n",
            "Train Epoch: 1 [52480/60000]\tLoss: 0.162904\n",
            "Train Epoch: 1 [53120/60000]\tLoss: 0.194474\n",
            "Train Epoch: 1 [53760/60000]\tLoss: 0.233883\n",
            "Train Epoch: 1 [54400/60000]\tLoss: 0.271915\n",
            "Train Epoch: 1 [55040/60000]\tLoss: 0.157084\n",
            "Train Epoch: 1 [55680/60000]\tLoss: 0.287605\n",
            "Train Epoch: 1 [56320/60000]\tLoss: 0.194293\n",
            "Train Epoch: 1 [56960/60000]\tLoss: 0.059862\n",
            "Train Epoch: 1 [57600/60000]\tLoss: 0.269270\n",
            "Train Epoch: 1 [58240/60000]\tLoss: 0.387876\n",
            "Train Epoch: 1 [58880/60000]\tLoss: 0.170555\n",
            "Train Epoch: 1 [59520/60000]\tLoss: 0.229125\n",
            "\n",
            "Test set: Avg. loss: 0.1271, Accuracy: 9591/10000 (96%)\n",
            "\n",
            "Train Epoch: 2 [0/60000]\tLoss: 0.103829\n",
            "Train Epoch: 2 [640/60000]\tLoss: 0.273540\n",
            "Train Epoch: 2 [1280/60000]\tLoss: 0.290134\n",
            "Train Epoch: 2 [1920/60000]\tLoss: 0.141488\n",
            "Train Epoch: 2 [2560/60000]\tLoss: 0.142919\n",
            "Train Epoch: 2 [3200/60000]\tLoss: 0.146370\n",
            "Train Epoch: 2 [3840/60000]\tLoss: 0.640564\n",
            "Train Epoch: 2 [4480/60000]\tLoss: 0.224146\n",
            "Train Epoch: 2 [5120/60000]\tLoss: 0.274358\n",
            "Train Epoch: 2 [5760/60000]\tLoss: 0.245740\n",
            "Train Epoch: 2 [6400/60000]\tLoss: 0.195800\n",
            "Train Epoch: 2 [7040/60000]\tLoss: 0.521576\n",
            "Train Epoch: 2 [7680/60000]\tLoss: 0.202684\n",
            "Train Epoch: 2 [8320/60000]\tLoss: 0.119519\n",
            "Train Epoch: 2 [8960/60000]\tLoss: 0.244054\n",
            "Train Epoch: 2 [9600/60000]\tLoss: 0.205993\n",
            "Train Epoch: 2 [10240/60000]\tLoss: 0.168072\n",
            "Train Epoch: 2 [10880/60000]\tLoss: 0.442266\n",
            "Train Epoch: 2 [11520/60000]\tLoss: 0.280952\n",
            "Train Epoch: 2 [12160/60000]\tLoss: 0.235966\n",
            "Train Epoch: 2 [12800/60000]\tLoss: 0.198639\n",
            "Train Epoch: 2 [13440/60000]\tLoss: 0.133319\n",
            "Train Epoch: 2 [14080/60000]\tLoss: 0.222085\n",
            "Train Epoch: 2 [14720/60000]\tLoss: 0.418546\n",
            "Train Epoch: 2 [15360/60000]\tLoss: 0.142507\n",
            "Train Epoch: 2 [16000/60000]\tLoss: 0.182278\n",
            "Train Epoch: 2 [16640/60000]\tLoss: 0.252271\n",
            "Train Epoch: 2 [17280/60000]\tLoss: 0.113898\n",
            "Train Epoch: 2 [17920/60000]\tLoss: 0.201381\n",
            "Train Epoch: 2 [18560/60000]\tLoss: 0.075924\n",
            "Train Epoch: 2 [19200/60000]\tLoss: 0.180116\n",
            "Train Epoch: 2 [19840/60000]\tLoss: 0.097286\n",
            "Train Epoch: 2 [20480/60000]\tLoss: 0.254779\n",
            "Train Epoch: 2 [21120/60000]\tLoss: 0.197032\n",
            "Train Epoch: 2 [21760/60000]\tLoss: 0.143565\n",
            "Train Epoch: 2 [22400/60000]\tLoss: 0.240589\n",
            "Train Epoch: 2 [23040/60000]\tLoss: 0.265671\n",
            "Train Epoch: 2 [23680/60000]\tLoss: 0.262370\n",
            "Train Epoch: 2 [24320/60000]\tLoss: 0.264697\n",
            "Train Epoch: 2 [24960/60000]\tLoss: 0.462300\n",
            "Train Epoch: 2 [25600/60000]\tLoss: 0.257863\n",
            "Train Epoch: 2 [26240/60000]\tLoss: 0.199433\n",
            "Train Epoch: 2 [26880/60000]\tLoss: 0.127690\n",
            "Train Epoch: 2 [27520/60000]\tLoss: 0.244684\n",
            "Train Epoch: 2 [28160/60000]\tLoss: 0.126649\n",
            "Train Epoch: 2 [28800/60000]\tLoss: 0.120819\n",
            "Train Epoch: 2 [29440/60000]\tLoss: 0.183636\n",
            "Train Epoch: 2 [30080/60000]\tLoss: 0.155353\n",
            "Train Epoch: 2 [30720/60000]\tLoss: 0.149846\n",
            "Train Epoch: 2 [31360/60000]\tLoss: 0.154926\n",
            "Train Epoch: 2 [32000/60000]\tLoss: 0.106958\n",
            "Train Epoch: 2 [32640/60000]\tLoss: 0.300272\n",
            "Train Epoch: 2 [33280/60000]\tLoss: 0.191114\n",
            "Train Epoch: 2 [33920/60000]\tLoss: 0.204380\n",
            "Train Epoch: 2 [34560/60000]\tLoss: 0.118088\n",
            "Train Epoch: 2 [35200/60000]\tLoss: 0.346320\n",
            "Train Epoch: 2 [35840/60000]\tLoss: 0.189228\n",
            "Train Epoch: 2 [36480/60000]\tLoss: 0.172742\n",
            "Train Epoch: 2 [37120/60000]\tLoss: 0.028479\n",
            "Train Epoch: 2 [37760/60000]\tLoss: 0.350596\n",
            "Train Epoch: 2 [38400/60000]\tLoss: 0.342695\n",
            "Train Epoch: 2 [39040/60000]\tLoss: 0.179738\n",
            "Train Epoch: 2 [39680/60000]\tLoss: 0.151077\n",
            "Train Epoch: 2 [40320/60000]\tLoss: 0.199401\n",
            "Train Epoch: 2 [40960/60000]\tLoss: 0.199705\n",
            "Train Epoch: 2 [41600/60000]\tLoss: 0.365213\n",
            "Train Epoch: 2 [42240/60000]\tLoss: 0.243277\n",
            "Train Epoch: 2 [42880/60000]\tLoss: 0.352768\n",
            "Train Epoch: 2 [43520/60000]\tLoss: 0.186378\n",
            "Train Epoch: 2 [44160/60000]\tLoss: 0.188617\n",
            "Train Epoch: 2 [44800/60000]\tLoss: 0.109094\n",
            "Train Epoch: 2 [45440/60000]\tLoss: 0.145880\n",
            "Train Epoch: 2 [46080/60000]\tLoss: 0.298961\n",
            "Train Epoch: 2 [46720/60000]\tLoss: 0.215636\n",
            "Train Epoch: 2 [47360/60000]\tLoss: 0.213598\n",
            "Train Epoch: 2 [48000/60000]\tLoss: 0.235682\n",
            "Train Epoch: 2 [48640/60000]\tLoss: 0.352721\n",
            "Train Epoch: 2 [49280/60000]\tLoss: 0.196508\n",
            "Train Epoch: 2 [49920/60000]\tLoss: 0.225478\n",
            "Train Epoch: 2 [50560/60000]\tLoss: 0.089047\n",
            "Train Epoch: 2 [51200/60000]\tLoss: 0.307210\n",
            "Train Epoch: 2 [51840/60000]\tLoss: 0.150449\n",
            "Train Epoch: 2 [52480/60000]\tLoss: 0.165951\n",
            "Train Epoch: 2 [53120/60000]\tLoss: 0.206974\n",
            "Train Epoch: 2 [53760/60000]\tLoss: 0.124122\n",
            "Train Epoch: 2 [54400/60000]\tLoss: 0.112928\n",
            "Train Epoch: 2 [55040/60000]\tLoss: 0.229518\n",
            "Train Epoch: 2 [55680/60000]\tLoss: 0.132261\n",
            "Train Epoch: 2 [56320/60000]\tLoss: 0.230313\n",
            "Train Epoch: 2 [56960/60000]\tLoss: 0.074895\n",
            "Train Epoch: 2 [57600/60000]\tLoss: 0.101435\n",
            "Train Epoch: 2 [58240/60000]\tLoss: 0.071114\n",
            "Train Epoch: 2 [58880/60000]\tLoss: 0.084533\n",
            "Train Epoch: 2 [59520/60000]\tLoss: 0.263521\n",
            "\n",
            "Test set: Avg. loss: 0.0866, Accuracy: 9717/10000 (97%)\n",
            "\n",
            "Train Epoch: 3 [0/60000]\tLoss: 0.314673\n",
            "Train Epoch: 3 [640/60000]\tLoss: 0.071397\n",
            "Train Epoch: 3 [1280/60000]\tLoss: 0.127861\n",
            "Train Epoch: 3 [1920/60000]\tLoss: 0.159721\n",
            "Train Epoch: 3 [2560/60000]\tLoss: 0.148747\n",
            "Train Epoch: 3 [3200/60000]\tLoss: 0.206733\n",
            "Train Epoch: 3 [3840/60000]\tLoss: 0.058773\n",
            "Train Epoch: 3 [4480/60000]\tLoss: 0.088915\n",
            "Train Epoch: 3 [5120/60000]\tLoss: 0.212627\n",
            "Train Epoch: 3 [5760/60000]\tLoss: 0.244161\n",
            "Train Epoch: 3 [6400/60000]\tLoss: 0.330535\n",
            "Train Epoch: 3 [7040/60000]\tLoss: 0.126424\n",
            "Train Epoch: 3 [7680/60000]\tLoss: 0.128077\n",
            "Train Epoch: 3 [8320/60000]\tLoss: 0.132146\n",
            "Train Epoch: 3 [8960/60000]\tLoss: 0.146729\n",
            "Train Epoch: 3 [9600/60000]\tLoss: 0.044414\n",
            "Train Epoch: 3 [10240/60000]\tLoss: 0.081500\n",
            "Train Epoch: 3 [10880/60000]\tLoss: 0.136187\n",
            "Train Epoch: 3 [11520/60000]\tLoss: 0.187563\n",
            "Train Epoch: 3 [12160/60000]\tLoss: 0.111047\n",
            "Train Epoch: 3 [12800/60000]\tLoss: 0.101851\n",
            "Train Epoch: 3 [13440/60000]\tLoss: 0.313210\n",
            "Train Epoch: 3 [14080/60000]\tLoss: 0.154860\n",
            "Train Epoch: 3 [14720/60000]\tLoss: 0.083766\n",
            "Train Epoch: 3 [15360/60000]\tLoss: 0.153095\n",
            "Train Epoch: 3 [16000/60000]\tLoss: 0.291480\n",
            "Train Epoch: 3 [16640/60000]\tLoss: 0.206935\n",
            "Train Epoch: 3 [17280/60000]\tLoss: 0.162406\n",
            "Train Epoch: 3 [17920/60000]\tLoss: 0.307595\n",
            "Train Epoch: 3 [18560/60000]\tLoss: 0.151799\n",
            "Train Epoch: 3 [19200/60000]\tLoss: 0.070584\n",
            "Train Epoch: 3 [19840/60000]\tLoss: 0.288515\n",
            "Train Epoch: 3 [20480/60000]\tLoss: 0.261948\n",
            "Train Epoch: 3 [21120/60000]\tLoss: 0.118938\n",
            "Train Epoch: 3 [21760/60000]\tLoss: 0.091588\n",
            "Train Epoch: 3 [22400/60000]\tLoss: 0.192758\n",
            "Train Epoch: 3 [23040/60000]\tLoss: 0.064554\n",
            "Train Epoch: 3 [23680/60000]\tLoss: 0.255977\n",
            "Train Epoch: 3 [24320/60000]\tLoss: 0.097597\n",
            "Train Epoch: 3 [24960/60000]\tLoss: 0.118400\n",
            "Train Epoch: 3 [25600/60000]\tLoss: 0.267654\n",
            "Train Epoch: 3 [26240/60000]\tLoss: 0.134100\n",
            "Train Epoch: 3 [26880/60000]\tLoss: 0.204268\n",
            "Train Epoch: 3 [27520/60000]\tLoss: 0.148001\n",
            "Train Epoch: 3 [28160/60000]\tLoss: 0.229029\n",
            "Train Epoch: 3 [28800/60000]\tLoss: 0.066464\n",
            "Train Epoch: 3 [29440/60000]\tLoss: 0.179270\n",
            "Train Epoch: 3 [30080/60000]\tLoss: 0.086396\n",
            "Train Epoch: 3 [30720/60000]\tLoss: 0.177502\n",
            "Train Epoch: 3 [31360/60000]\tLoss: 0.202923\n",
            "Train Epoch: 3 [32000/60000]\tLoss: 0.113596\n",
            "Train Epoch: 3 [32640/60000]\tLoss: 0.168748\n",
            "Train Epoch: 3 [33280/60000]\tLoss: 0.147990\n",
            "Train Epoch: 3 [33920/60000]\tLoss: 0.089225\n",
            "Train Epoch: 3 [34560/60000]\tLoss: 0.131986\n",
            "Train Epoch: 3 [35200/60000]\tLoss: 0.248273\n",
            "Train Epoch: 3 [35840/60000]\tLoss: 0.109067\n",
            "Train Epoch: 3 [36480/60000]\tLoss: 0.073137\n",
            "Train Epoch: 3 [37120/60000]\tLoss: 0.043967\n",
            "Train Epoch: 3 [37760/60000]\tLoss: 0.107501\n",
            "Train Epoch: 3 [38400/60000]\tLoss: 0.102997\n",
            "Train Epoch: 3 [39040/60000]\tLoss: 0.121241\n",
            "Train Epoch: 3 [39680/60000]\tLoss: 0.175986\n",
            "Train Epoch: 3 [40320/60000]\tLoss: 0.398731\n",
            "Train Epoch: 3 [40960/60000]\tLoss: 0.123632\n",
            "Train Epoch: 3 [41600/60000]\tLoss: 0.286420\n",
            "Train Epoch: 3 [42240/60000]\tLoss: 0.050739\n",
            "Train Epoch: 3 [42880/60000]\tLoss: 0.137450\n",
            "Train Epoch: 3 [43520/60000]\tLoss: 0.072734\n",
            "Train Epoch: 3 [44160/60000]\tLoss: 0.141588\n",
            "Train Epoch: 3 [44800/60000]\tLoss: 0.074606\n",
            "Train Epoch: 3 [45440/60000]\tLoss: 0.078593\n",
            "Train Epoch: 3 [46080/60000]\tLoss: 0.177153\n",
            "Train Epoch: 3 [46720/60000]\tLoss: 0.269894\n",
            "Train Epoch: 3 [47360/60000]\tLoss: 0.061737\n",
            "Train Epoch: 3 [48000/60000]\tLoss: 0.187515\n",
            "Train Epoch: 3 [48640/60000]\tLoss: 0.150914\n",
            "Train Epoch: 3 [49280/60000]\tLoss: 0.104694\n",
            "Train Epoch: 3 [49920/60000]\tLoss: 0.036013\n",
            "Train Epoch: 3 [50560/60000]\tLoss: 0.086280\n",
            "Train Epoch: 3 [51200/60000]\tLoss: 0.206226\n",
            "Train Epoch: 3 [51840/60000]\tLoss: 0.068103\n",
            "Train Epoch: 3 [52480/60000]\tLoss: 0.245597\n",
            "Train Epoch: 3 [53120/60000]\tLoss: 0.286229\n",
            "Train Epoch: 3 [53760/60000]\tLoss: 0.127267\n",
            "Train Epoch: 3 [54400/60000]\tLoss: 0.225622\n",
            "Train Epoch: 3 [55040/60000]\tLoss: 0.152155\n",
            "Train Epoch: 3 [55680/60000]\tLoss: 0.147763\n",
            "Train Epoch: 3 [56320/60000]\tLoss: 0.115476\n",
            "Train Epoch: 3 [56960/60000]\tLoss: 0.272090\n",
            "Train Epoch: 3 [57600/60000]\tLoss: 0.070596\n",
            "Train Epoch: 3 [58240/60000]\tLoss: 0.241876\n",
            "Train Epoch: 3 [58880/60000]\tLoss: 0.212793\n",
            "Train Epoch: 3 [59520/60000]\tLoss: 0.140079\n",
            "\n",
            "Test set: Avg. loss: 0.0727, Accuracy: 9772/10000 (98%)\n",
            "\n"
          ]
        }
      ]
    },
    {
      "cell_type": "code",
      "source": [
        "# Run network on data we got before and show predictions\n",
        "output = model(example_data)\n",
        "\n",
        "fig = plt.figure()\n",
        "for i in range(10):\n",
        "  plt.subplot(5,5,i+1)\n",
        "  plt.tight_layout()\n",
        "  plt.imshow(example_data[i][0], cmap='gray', interpolation='none')\n",
        "  plt.title(\"Prediction: {}\".format(\n",
        "    output.data.max(1, keepdim=True)[1][i].item()))\n",
        "  plt.xticks([])\n",
        "  plt.yticks([])\n",
        "plt.show()"
      ],
      "metadata": {
        "id": "o7fRUAy9Se1B",
        "colab": {
          "base_uri": "https://localhost:8080/",
          "height": 207
        },
        "outputId": "a0d113c4-94e1-429f-9a0a-cab38536d79d"
      },
      "execution_count": 10,
      "outputs": [
        {
          "output_type": "display_data",
          "data": {
            "text/plain": [
              "<Figure size 640x480 with 10 Axes>"
            ],
            "image/png": "[encoded data removed]"
          },
          "metadata": {}
        }
      ]
    }
  ]
}